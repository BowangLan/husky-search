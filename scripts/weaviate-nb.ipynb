{
 "cells": [
  {
   "cell_type": "code",
   "execution_count": null,
   "id": "7aec45be",
   "metadata": {},
   "outputs": [
    {
     "ename": "",
     "evalue": "",
     "output_type": "error",
     "traceback": [
      "\u001b[1;31mRunning cells with 'husky-search (Python 3.13.2)' requires the ipykernel package.\n",
      "\u001b[1;31mInstall 'ipykernel' into the Python environment. \n",
      "\u001b[1;31mCommand: '/Users/bowanglan/Dev/husky-search/husky-search/bin/python -m pip install ipykernel -U --force-reinstall'"
     ]
    }
   ],
   "source": [
    "import os\n",
    "\n",
    "from dotenv import load_dotenv\n",
    "\n",
    "from convex import ConvexClient\n",
    "\n",
    "load_dotenv(\".env.local\")\n",
    "load_dotenv(\".env\")\n",
    "\n",
    "CONVEX_URL = os.getenv(\"CONVEX_URL\")\n",
    "# or you can hardcode your deployment URL instead\n",
    "# CONVEX_URL = \"https://happy-otter-123.convex.cloud\"\n",
    "\n",
    "client = ConvexClient(CONVEX_URL)\n",
    "\n",
    "print(client.query(\"courses:getByCourseCode\", {\"courseCode\": \"CSE 121\"}))\n"
   ]
  },
  {
   "cell_type": "code",
   "execution_count": null,
   "id": "4c4f736a",
   "metadata": {},
   "outputs": [],
   "source": []
  }
 ],
 "metadata": {
  "kernelspec": {
   "display_name": "husky-search",
   "language": "python",
   "name": "python3"
  },
  "language_info": {
   "name": "python",
   "version": "3.13.2"
  }
 },
 "nbformat": 4,
 "nbformat_minor": 5
}
